{
 "cells": [
  {
   "cell_type": "markdown",
   "id": "af2742a1",
   "metadata": {},
   "source": [
    "# Extração da base de Violência Interpessoal/Autoprovocada do SINAN\n",
    "Este notebook utiliza o `pysus` para baixar os dados do SINAN localizados sob o código (`VIOL`) de 2009 a 2023. No momento, não há dados anteriores a 2009 nem posteriores a 2023."
   ]
  },
  {
   "cell_type": "code",
   "execution_count": null,
   "id": "b7eb8b66",
   "metadata": {},
   "outputs": [],
   "source": [
    "from pysus import SINAN\n",
    "sinan = SINAN().load()\n",
    "years = list(range(2009, 2024))  # De 2009 a 2023\n",
    "dis_code = ['VIOL']"
   ]
  },
  {
   "cell_type": "code",
   "execution_count": null,
   "id": "1cc2939c",
   "metadata": {},
   "outputs": [],
   "source": [
    "dataframes = {}\n",
    "for year in years:\n",
    "    print(f\"Baixando dados de {year}...\")\n",
    "    file = sinan.get_files(dis_code=dis_code, year=[year])[0]\n",
    "    df = file.download().to_dataframe()\n",
    "    dataframes[year] = df"
   ]
  },
  {
   "cell_type": "code",
   "execution_count": null,
   "id": "12fbb718",
   "metadata": {},
   "outputs": [],
   "source": [
    "# Save the 2023 data to CSV\n",
    "dataframes[2023].to_csv(\"Violencia_2023.csv\", index=False)\n",
    "print(\"Saved Violencia_2023.csv\")"
   ]
  },
  {
   "cell_type": "code",
   "execution_count": null,
   "id": "cbe52d11",
   "metadata": {},
   "outputs": [],
   "source": [
    "# Optional: Concatenate all years into a single DataFrame\n",
    "# import pandas as pd\n",
    "# all_data = pd.concat(dataframes.values(), ignore_index=True)\n",
    "# all_data.to_csv(\"Violencia_2009_2023.csv\", index=False)\n",
    "# print(\"Saved Violencia_2009_2023.csv\")"
   ]
  }
 ],
 "metadata": {
  "kernelspec": {
   "display_name": "Python 3",
   "language": "python",
   "name": "python3"
  },
  "language_info": {
   "codemirror_mode": {
    "name": "ipython",
    "version": 3
   },
   "file_extension": ".py",
   "mimetype": "text/x-python",
   "name": "python",
   "nbconvert_exporter": "python",
   "pygments_lexer": "ipython3",
   "version": "3.12.9"
  }
 },
 "nbformat": 4,
 "nbformat_minor": 5
}
