{
 "cells": [
  {
   "cell_type": "code",
   "execution_count": null,
   "id": "38bfb31d-010f-4c4c-a6c8-d2d2164eb728",
   "metadata": {},
   "outputs": [],
   "source": [
    "%pip install pysus"
   ]
  },
  {
   "cell_type": "code",
   "execution_count": 2,
   "id": "a4adfd5a-77f5-44fe-94a0-88ca56e2ad8a",
   "metadata": {},
   "outputs": [],
   "source": [
    "from pysus import SINAN\n",
    "sinan = SINAN().load()\n",
    "files = sinan.get_files(dis_code=['VIOL'], year=[2009, 2010, 2011, 2012, 2013, 2014, 2015, 2016, 2017, 2018, 2019, 2020, 2021, 2022, 2023])\n",
    "viol_09, viol_10, viol_11, viol_12, viol_13, viol_14, viol_15, viol_16, viol_17, viol_18, viol_19, viol_20, viol_21, viol_22, viol_23 = files"
   ]
  },
  {
   "cell_type": "code",
   "execution_count": 13,
   "id": "12c8dda0-f41e-4d23-a600-5704797663c6",
   "metadata": {},
   "outputs": [],
   "source": [
    "viol_09_parquet = viol_09.download().to_dataframe()\n",
    "viol_10_parquet = viol_10.download().to_dataframe()\n",
    "viol_09_parquet.to_csv(\"Violência 2009.csv\")\n",
    "viol_10_parquet.to_csv(\"Violência 2010.csv\")"
   ]
  },
  {
   "cell_type": "code",
   "execution_count": 14,
   "id": "ec058718-ec51-4118-a7f7-6eb3932436ed",
   "metadata": {},
   "outputs": [],
   "source": [
    "viol_11_parquet = viol_11.download().to_dataframe()\n",
    "viol_12_parquet = viol_12.download().to_dataframe()\n",
    "viol_11_parquet.to_csv(\"Violência 2011.csv\")\n",
    "viol_12_parquet.to_csv(\"Violência 2012.csv\")"
   ]
  },
  {
   "cell_type": "code",
   "execution_count": 15,
   "id": "bf64ae90-3ba9-45c4-af2b-dc9e2046065e",
   "metadata": {},
   "outputs": [],
   "source": [
    "viol_13_parquet = viol_13.download().to_dataframe()\n",
    "viol_14_parquet = viol_14.download().to_dataframe()\n",
    "viol_13_parquet.to_csv(\"Violência 2013.csv\")\n",
    "viol_14_parquet.to_csv(\"Violência 2014.csv\")"
   ]
  },
  {
   "cell_type": "code",
   "execution_count": 16,
   "id": "e3534789-b9fd-4bbc-8ec2-ea9bc96697bd",
   "metadata": {},
   "outputs": [],
   "source": [
    "viol_15_parquet = viol_15.download().to_dataframe()\n",
    "viol_16_parquet = viol_16.download().to_dataframe()\n",
    "viol_15_parquet.to_csv(\"Violência 2015.csv\")\n",
    "viol_16_parquet.to_csv(\"Violência 2016.csv\")"
   ]
  },
  {
   "cell_type": "code",
   "execution_count": 3,
   "id": "d331f841-af05-46a1-a43f-9fd0eb7eb9b3",
   "metadata": {},
   "outputs": [],
   "source": [
    "viol_17_parquet = viol_17.download().to_dataframe()\n",
    "viol_18_parquet = viol_18.download().to_dataframe()\n",
    "viol_17_parquet.to_csv(\"Violência 2017.csv\")\n",
    "viol_18_parquet.to_csv(\"Violência 2018.csv\")"
   ]
  },
  {
   "cell_type": "code",
   "execution_count": 4,
   "id": "ad9916be-ab1e-4912-af70-51633dc40423",
   "metadata": {},
   "outputs": [],
   "source": [
    "viol_19_parquet = viol_19.download().to_dataframe()\n",
    "viol_20_parquet = viol_20.download().to_dataframe()\n",
    "viol_19_parquet.to_csv(\"Violência 2019.csv\")\n",
    "viol_20_parquet.to_csv(\"Violência 2020.csv\")"
   ]
  },
  {
   "cell_type": "code",
   "execution_count": 5,
   "id": "6745dd42-a135-4ae1-a761-9be65ee98e07",
   "metadata": {},
   "outputs": [],
   "source": [
    "viol_21_parquet = viol_21.download().to_dataframe()\n",
    "viol_22_parquet = viol_22.download().to_dataframe()\n",
    "viol_21_parquet.to_csv(\"Violência 2021.csv\")\n",
    "viol_22_parquet.to_csv(\"Violência 2022.csv\")"
   ]
  },
  {
   "cell_type": "code",
   "execution_count": 6,
   "id": "e74977ca-5c77-4ecf-ad4d-5e4b144f845a",
   "metadata": {},
   "outputs": [],
   "source": [
    "viol_23_parquet = viol_23.download().to_dataframe()\n",
    "viol_23_parquet.to_csv(\"Violência 2023.csv\")"
   ]
  }
 ],
 "metadata": {
  "kernelspec": {
   "display_name": "Python 3 (ipykernel)",
   "language": "python",
   "name": "python3"
  },
  "language_info": {
   "codemirror_mode": {
    "name": "ipython",
    "version": 3
   },
   "file_extension": ".py",
   "mimetype": "text/x-python",
   "name": "python",
   "nbconvert_exporter": "python",
   "pygments_lexer": "ipython3",
   "version": "3.11.6"
  }
 },
 "nbformat": 4,
 "nbformat_minor": 5
}
